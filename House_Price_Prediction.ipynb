{
 "cells": [
  {
   "cell_type": "markdown",
   "metadata": {},
   "source": [
    "## DATA EXPLORATION & PREPARATION\n"
   ]
  },
  {
   "cell_type": "markdown",
   "metadata": {},
   "source": [
    "### part a\n"
   ]
  },
  {
   "cell_type": "code",
   "execution_count": 1,
   "metadata": {},
   "outputs": [],
   "source": [
    "import pandas as pd\n",
    "import os\n",
    "DATASET_PATH = os.path.join(\"datasets\", \"assignment1\")\n",
    "if not os.path.isdir(DATASET_PATH):\n",
    "    os.makedirs(DATASET_PATH) #if there is no DATASET_PATH this code creates it.\n",
    "csv_path_train = os.path.join(DATASET_PATH, \"train.csv\") #data extracting path (datasets/assignment1/train.csv)\n",
    "df=pd.read_csv(csv_path_train) #for reading data"
   ]
  },
  {
   "cell_type": "code",
   "execution_count": 2,
   "metadata": {},
   "outputs": [],
   "source": [
    "train_x_a=pd.read_csv(csv_path_train,usecols=range(25)) #for using only 25 columns not SalePrice column\n",
    "train_y=pd.read_csv(csv_path_train)\n",
    "train_y=pd.Series(train_y.values[:, -1], name=train_y.columns[-1]) #it contains only SalePrice column"
   ]
  },
  {
   "cell_type": "code",
   "execution_count": 3,
   "metadata": {},
   "outputs": [
    {
     "data": {
      "text/html": [
       "<div>\n",
       "<style scoped>\n",
       "    .dataframe tbody tr th:only-of-type {\n",
       "        vertical-align: middle;\n",
       "    }\n",
       "\n",
       "    .dataframe tbody tr th {\n",
       "        vertical-align: top;\n",
       "    }\n",
       "\n",
       "    .dataframe thead th {\n",
       "        text-align: right;\n",
       "    }\n",
       "</style>\n",
       "<table border=\"1\" class=\"dataframe\">\n",
       "  <thead>\n",
       "    <tr style=\"text-align: right;\">\n",
       "      <th></th>\n",
       "      <th>MSSubClass</th>\n",
       "      <th>LotFrontage</th>\n",
       "      <th>LotArea</th>\n",
       "      <th>Street</th>\n",
       "      <th>OverallQual</th>\n",
       "      <th>OverallCond</th>\n",
       "      <th>MasVnrArea</th>\n",
       "      <th>BsmtFinSF1</th>\n",
       "      <th>BsmtUnfSF</th>\n",
       "      <th>TotalBsmtSF</th>\n",
       "      <th>...</th>\n",
       "      <th>BsmtHalfBath</th>\n",
       "      <th>FullBath</th>\n",
       "      <th>HalfBath</th>\n",
       "      <th>BedroomAbvGr</th>\n",
       "      <th>KitchenAbvGr</th>\n",
       "      <th>TotRmsAbvGrd</th>\n",
       "      <th>Fireplaces</th>\n",
       "      <th>GarageCars</th>\n",
       "      <th>GarageArea</th>\n",
       "      <th>MoSold</th>\n",
       "    </tr>\n",
       "  </thead>\n",
       "  <tbody>\n",
       "    <tr>\n",
       "      <th>0</th>\n",
       "      <td>60</td>\n",
       "      <td>65.0</td>\n",
       "      <td>8450</td>\n",
       "      <td>Pave</td>\n",
       "      <td>7</td>\n",
       "      <td>5</td>\n",
       "      <td>196.0</td>\n",
       "      <td>706</td>\n",
       "      <td>150</td>\n",
       "      <td>856</td>\n",
       "      <td>...</td>\n",
       "      <td>0</td>\n",
       "      <td>2</td>\n",
       "      <td>1</td>\n",
       "      <td>3</td>\n",
       "      <td>1</td>\n",
       "      <td>8</td>\n",
       "      <td>0</td>\n",
       "      <td>2</td>\n",
       "      <td>548</td>\n",
       "      <td>2</td>\n",
       "    </tr>\n",
       "    <tr>\n",
       "      <th>1</th>\n",
       "      <td>20</td>\n",
       "      <td>80.0</td>\n",
       "      <td>9600</td>\n",
       "      <td>Pave</td>\n",
       "      <td>6</td>\n",
       "      <td>8</td>\n",
       "      <td>0.0</td>\n",
       "      <td>978</td>\n",
       "      <td>284</td>\n",
       "      <td>1262</td>\n",
       "      <td>...</td>\n",
       "      <td>1</td>\n",
       "      <td>2</td>\n",
       "      <td>0</td>\n",
       "      <td>3</td>\n",
       "      <td>1</td>\n",
       "      <td>6</td>\n",
       "      <td>1</td>\n",
       "      <td>2</td>\n",
       "      <td>460</td>\n",
       "      <td>5</td>\n",
       "    </tr>\n",
       "  </tbody>\n",
       "</table>\n",
       "<p>2 rows × 25 columns</p>\n",
       "</div>"
      ],
      "text/plain": [
       "   MSSubClass  LotFrontage  LotArea Street  OverallQual  OverallCond  \\\n",
       "0          60         65.0     8450   Pave            7            5   \n",
       "1          20         80.0     9600   Pave            6            8   \n",
       "\n",
       "   MasVnrArea  BsmtFinSF1  BsmtUnfSF  TotalBsmtSF   ...    BsmtHalfBath  \\\n",
       "0       196.0         706        150          856   ...               0   \n",
       "1         0.0         978        284         1262   ...               1   \n",
       "\n",
       "   FullBath  HalfBath  BedroomAbvGr  KitchenAbvGr  TotRmsAbvGrd  Fireplaces  \\\n",
       "0         2         1             3             1             8           0   \n",
       "1         2         0             3             1             6           1   \n",
       "\n",
       "   GarageCars  GarageArea  MoSold  \n",
       "0           2         548       2  \n",
       "1           2         460       5  \n",
       "\n",
       "[2 rows x 25 columns]"
      ]
     },
     "execution_count": 3,
     "metadata": {},
     "output_type": "execute_result"
    }
   ],
   "source": [
    "train_x_a.head(2)"
   ]
  },
  {
   "cell_type": "code",
   "execution_count": 4,
   "metadata": {},
   "outputs": [
    {
     "data": {
      "text/plain": [
       "0    208500\n",
       "1    181500\n",
       "Name: SalePrice, dtype: object"
      ]
     },
     "execution_count": 4,
     "metadata": {},
     "output_type": "execute_result"
    }
   ],
   "source": [
    "train_y.head(2)"
   ]
  },
  {
   "cell_type": "markdown",
   "metadata": {},
   "source": [
    "### part b"
   ]
  },
  {
   "cell_type": "code",
   "execution_count": 5,
   "metadata": {},
   "outputs": [],
   "source": [
    "nan_columns=[df.columns[df.isnull().any()]] #for finding NaN columns\n",
    "train_x_b=df.fillna(df[\"LotFrontage\"].median()) # writing median of LotFrontage column instead of NaN values\n"
   ]
  },
  {
   "cell_type": "code",
   "execution_count": 6,
   "metadata": {},
   "outputs": [
    {
     "name": "stdout",
     "output_type": "stream",
     "text": [
      "[Index([u'LotFrontage', u'MasVnrArea'], dtype='object')]\n"
     ]
    }
   ],
   "source": [
    "print list(nan_columns)"
   ]
  },
  {
   "cell_type": "code",
   "execution_count": 7,
   "metadata": {
    "scrolled": true
   },
   "outputs": [
    {
     "data": {
      "text/html": [
       "<div>\n",
       "<style scoped>\n",
       "    .dataframe tbody tr th:only-of-type {\n",
       "        vertical-align: middle;\n",
       "    }\n",
       "\n",
       "    .dataframe tbody tr th {\n",
       "        vertical-align: top;\n",
       "    }\n",
       "\n",
       "    .dataframe thead th {\n",
       "        text-align: right;\n",
       "    }\n",
       "</style>\n",
       "<table border=\"1\" class=\"dataframe\">\n",
       "  <thead>\n",
       "    <tr style=\"text-align: right;\">\n",
       "      <th></th>\n",
       "      <th>MSSubClass</th>\n",
       "      <th>LotFrontage</th>\n",
       "      <th>LotArea</th>\n",
       "      <th>Street</th>\n",
       "      <th>OverallQual</th>\n",
       "      <th>OverallCond</th>\n",
       "      <th>MasVnrArea</th>\n",
       "      <th>BsmtFinSF1</th>\n",
       "      <th>BsmtUnfSF</th>\n",
       "      <th>TotalBsmtSF</th>\n",
       "      <th>...</th>\n",
       "      <th>FullBath</th>\n",
       "      <th>HalfBath</th>\n",
       "      <th>BedroomAbvGr</th>\n",
       "      <th>KitchenAbvGr</th>\n",
       "      <th>TotRmsAbvGrd</th>\n",
       "      <th>Fireplaces</th>\n",
       "      <th>GarageCars</th>\n",
       "      <th>GarageArea</th>\n",
       "      <th>MoSold</th>\n",
       "      <th>SalePrice</th>\n",
       "    </tr>\n",
       "  </thead>\n",
       "  <tbody>\n",
       "    <tr>\n",
       "      <th>0</th>\n",
       "      <td>60</td>\n",
       "      <td>65.0</td>\n",
       "      <td>8450</td>\n",
       "      <td>Pave</td>\n",
       "      <td>7</td>\n",
       "      <td>5</td>\n",
       "      <td>196.0</td>\n",
       "      <td>706</td>\n",
       "      <td>150</td>\n",
       "      <td>856</td>\n",
       "      <td>...</td>\n",
       "      <td>2</td>\n",
       "      <td>1</td>\n",
       "      <td>3</td>\n",
       "      <td>1</td>\n",
       "      <td>8</td>\n",
       "      <td>0</td>\n",
       "      <td>2</td>\n",
       "      <td>548</td>\n",
       "      <td>2</td>\n",
       "      <td>208500</td>\n",
       "    </tr>\n",
       "    <tr>\n",
       "      <th>1</th>\n",
       "      <td>20</td>\n",
       "      <td>80.0</td>\n",
       "      <td>9600</td>\n",
       "      <td>Pave</td>\n",
       "      <td>6</td>\n",
       "      <td>8</td>\n",
       "      <td>0.0</td>\n",
       "      <td>978</td>\n",
       "      <td>284</td>\n",
       "      <td>1262</td>\n",
       "      <td>...</td>\n",
       "      <td>2</td>\n",
       "      <td>0</td>\n",
       "      <td>3</td>\n",
       "      <td>1</td>\n",
       "      <td>6</td>\n",
       "      <td>1</td>\n",
       "      <td>2</td>\n",
       "      <td>460</td>\n",
       "      <td>5</td>\n",
       "      <td>181500</td>\n",
       "    </tr>\n",
       "  </tbody>\n",
       "</table>\n",
       "<p>2 rows × 26 columns</p>\n",
       "</div>"
      ],
      "text/plain": [
       "   MSSubClass  LotFrontage  LotArea Street  OverallQual  OverallCond  \\\n",
       "0          60         65.0     8450   Pave            7            5   \n",
       "1          20         80.0     9600   Pave            6            8   \n",
       "\n",
       "   MasVnrArea  BsmtFinSF1  BsmtUnfSF  TotalBsmtSF    ...      FullBath  \\\n",
       "0       196.0         706        150          856    ...             2   \n",
       "1         0.0         978        284         1262    ...             2   \n",
       "\n",
       "   HalfBath  BedroomAbvGr  KitchenAbvGr  TotRmsAbvGrd  Fireplaces  GarageCars  \\\n",
       "0         1             3             1             8           0           2   \n",
       "1         0             3             1             6           1           2   \n",
       "\n",
       "   GarageArea  MoSold  SalePrice  \n",
       "0         548       2     208500  \n",
       "1         460       5     181500  \n",
       "\n",
       "[2 rows x 26 columns]"
      ]
     },
     "execution_count": 7,
     "metadata": {},
     "output_type": "execute_result"
    }
   ],
   "source": [
    "train_x_b.head(2)"
   ]
  },
  {
   "cell_type": "code",
   "execution_count": 8,
   "metadata": {},
   "outputs": [],
   "source": [
    "train_y=train_y.dropna() #for dropping NaN values\n",
    "train_x_a=train_x_a.dropna()"
   ]
  },
  {
   "cell_type": "markdown",
   "metadata": {},
   "source": [
    "### part c"
   ]
  },
  {
   "cell_type": "code",
   "execution_count": 9,
   "metadata": {},
   "outputs": [],
   "source": [
    "categorical_columns =[(df == \"Pave\").idxmax(axis=1)[0]] #categorical_columns variable contains column name that includes strings "
   ]
  },
  {
   "cell_type": "code",
   "execution_count": 10,
   "metadata": {},
   "outputs": [
    {
     "name": "stdout",
     "output_type": "stream",
     "text": [
      "['Street']\n"
     ]
    }
   ],
   "source": [
    "print categorical_columns"
   ]
  },
  {
   "cell_type": "markdown",
   "metadata": {},
   "source": [
    "### part d"
   ]
  },
  {
   "cell_type": "code",
   "execution_count": 11,
   "metadata": {},
   "outputs": [],
   "source": [
    "one_hot=pd.get_dummies(train_x_b[\"Street\"]) #get_dummies function works for one hot encoding.\n",
    "train_x_b=train_x_b.drop(\"Street\",axis=1) #dropping Street column from train_x_b\n",
    "train_x_b=train_x_b.drop(\"SalePrice\",axis=1) #dropping SalePrice column from train_x_b\n",
    "train_x_d=train_x_b.join(one_hot) #adding one hot columns into train_x_d"
   ]
  },
  {
   "cell_type": "code",
   "execution_count": 12,
   "metadata": {},
   "outputs": [
    {
     "data": {
      "text/html": [
       "<div>\n",
       "<style scoped>\n",
       "    .dataframe tbody tr th:only-of-type {\n",
       "        vertical-align: middle;\n",
       "    }\n",
       "\n",
       "    .dataframe tbody tr th {\n",
       "        vertical-align: top;\n",
       "    }\n",
       "\n",
       "    .dataframe thead th {\n",
       "        text-align: right;\n",
       "    }\n",
       "</style>\n",
       "<table border=\"1\" class=\"dataframe\">\n",
       "  <thead>\n",
       "    <tr style=\"text-align: right;\">\n",
       "      <th></th>\n",
       "      <th>MSSubClass</th>\n",
       "      <th>LotFrontage</th>\n",
       "      <th>LotArea</th>\n",
       "      <th>OverallQual</th>\n",
       "      <th>OverallCond</th>\n",
       "      <th>MasVnrArea</th>\n",
       "      <th>BsmtFinSF1</th>\n",
       "      <th>BsmtUnfSF</th>\n",
       "      <th>TotalBsmtSF</th>\n",
       "      <th>1stFlrSF</th>\n",
       "      <th>...</th>\n",
       "      <th>HalfBath</th>\n",
       "      <th>BedroomAbvGr</th>\n",
       "      <th>KitchenAbvGr</th>\n",
       "      <th>TotRmsAbvGrd</th>\n",
       "      <th>Fireplaces</th>\n",
       "      <th>GarageCars</th>\n",
       "      <th>GarageArea</th>\n",
       "      <th>MoSold</th>\n",
       "      <th>Grvl</th>\n",
       "      <th>Pave</th>\n",
       "    </tr>\n",
       "  </thead>\n",
       "  <tbody>\n",
       "    <tr>\n",
       "      <th>0</th>\n",
       "      <td>60</td>\n",
       "      <td>65.0</td>\n",
       "      <td>8450</td>\n",
       "      <td>7</td>\n",
       "      <td>5</td>\n",
       "      <td>196.0</td>\n",
       "      <td>706</td>\n",
       "      <td>150</td>\n",
       "      <td>856</td>\n",
       "      <td>856</td>\n",
       "      <td>...</td>\n",
       "      <td>1</td>\n",
       "      <td>3</td>\n",
       "      <td>1</td>\n",
       "      <td>8</td>\n",
       "      <td>0</td>\n",
       "      <td>2</td>\n",
       "      <td>548</td>\n",
       "      <td>2</td>\n",
       "      <td>0</td>\n",
       "      <td>1</td>\n",
       "    </tr>\n",
       "    <tr>\n",
       "      <th>1</th>\n",
       "      <td>20</td>\n",
       "      <td>80.0</td>\n",
       "      <td>9600</td>\n",
       "      <td>6</td>\n",
       "      <td>8</td>\n",
       "      <td>0.0</td>\n",
       "      <td>978</td>\n",
       "      <td>284</td>\n",
       "      <td>1262</td>\n",
       "      <td>1262</td>\n",
       "      <td>...</td>\n",
       "      <td>0</td>\n",
       "      <td>3</td>\n",
       "      <td>1</td>\n",
       "      <td>6</td>\n",
       "      <td>1</td>\n",
       "      <td>2</td>\n",
       "      <td>460</td>\n",
       "      <td>5</td>\n",
       "      <td>0</td>\n",
       "      <td>1</td>\n",
       "    </tr>\n",
       "  </tbody>\n",
       "</table>\n",
       "<p>2 rows × 26 columns</p>\n",
       "</div>"
      ],
      "text/plain": [
       "   MSSubClass  LotFrontage  LotArea  OverallQual  OverallCond  MasVnrArea  \\\n",
       "0          60         65.0     8450            7            5       196.0   \n",
       "1          20         80.0     9600            6            8         0.0   \n",
       "\n",
       "   BsmtFinSF1  BsmtUnfSF  TotalBsmtSF  1stFlrSF  ...   HalfBath  BedroomAbvGr  \\\n",
       "0         706        150          856       856  ...          1             3   \n",
       "1         978        284         1262      1262  ...          0             3   \n",
       "\n",
       "   KitchenAbvGr  TotRmsAbvGrd  Fireplaces  GarageCars  GarageArea  MoSold  \\\n",
       "0             1             8           0           2         548       2   \n",
       "1             1             6           1           2         460       5   \n",
       "\n",
       "   Grvl  Pave  \n",
       "0     0     1  \n",
       "1     0     1  \n",
       "\n",
       "[2 rows x 26 columns]"
      ]
     },
     "execution_count": 12,
     "metadata": {},
     "output_type": "execute_result"
    }
   ],
   "source": [
    "train_x_d.head(2)"
   ]
  },
  {
   "cell_type": "markdown",
   "metadata": {},
   "source": [
    "### part e"
   ]
  },
  {
   "cell_type": "code",
   "execution_count": 13,
   "metadata": {},
   "outputs": [],
   "source": [
    "from sklearn.preprocessing import StandardScaler\n",
    "import numpy as np\n",
    "train_x_d= train_x_d.astype(float) #converts any value of train_x_d to the float\n",
    "data_norm = train_x_d.copy() #Has train data frames combined to form single data frame\n",
    "normalizer = StandardScaler() #StandardScaler function for standardization\n",
    "data_array = normalizer.fit_transform(data_norm) #Fit to data, then transform it\n",
    "train_x_e= pd.DataFrame(data_array,columns = data_norm.columns).set_index(data_norm.index) #creating new data frame for train_x_e"
   ]
  },
  {
   "cell_type": "code",
   "execution_count": 14,
   "metadata": {},
   "outputs": [
    {
     "data": {
      "text/html": [
       "<div>\n",
       "<style scoped>\n",
       "    .dataframe tbody tr th:only-of-type {\n",
       "        vertical-align: middle;\n",
       "    }\n",
       "\n",
       "    .dataframe tbody tr th {\n",
       "        vertical-align: top;\n",
       "    }\n",
       "\n",
       "    .dataframe thead th {\n",
       "        text-align: right;\n",
       "    }\n",
       "</style>\n",
       "<table border=\"1\" class=\"dataframe\">\n",
       "  <thead>\n",
       "    <tr style=\"text-align: right;\">\n",
       "      <th></th>\n",
       "      <th>MSSubClass</th>\n",
       "      <th>LotFrontage</th>\n",
       "      <th>LotArea</th>\n",
       "      <th>OverallQual</th>\n",
       "      <th>OverallCond</th>\n",
       "      <th>MasVnrArea</th>\n",
       "      <th>BsmtFinSF1</th>\n",
       "      <th>BsmtUnfSF</th>\n",
       "      <th>TotalBsmtSF</th>\n",
       "      <th>1stFlrSF</th>\n",
       "      <th>...</th>\n",
       "      <th>HalfBath</th>\n",
       "      <th>BedroomAbvGr</th>\n",
       "      <th>KitchenAbvGr</th>\n",
       "      <th>TotRmsAbvGrd</th>\n",
       "      <th>Fireplaces</th>\n",
       "      <th>GarageCars</th>\n",
       "      <th>GarageArea</th>\n",
       "      <th>MoSold</th>\n",
       "      <th>Grvl</th>\n",
       "      <th>Pave</th>\n",
       "    </tr>\n",
       "  </thead>\n",
       "  <tbody>\n",
       "    <tr>\n",
       "      <th>0</th>\n",
       "      <td>0.073872</td>\n",
       "      <td>-0.235351</td>\n",
       "      <td>-0.196474</td>\n",
       "      <td>0.632900</td>\n",
       "      <td>-0.529618</td>\n",
       "      <td>0.46221</td>\n",
       "      <td>0.589782</td>\n",
       "      <td>-0.939672</td>\n",
       "      <td>-0.486827</td>\n",
       "      <td>-0.802481</td>\n",
       "      <td>...</td>\n",
       "      <td>1.230454</td>\n",
       "      <td>0.178216</td>\n",
       "      <td>-0.208547</td>\n",
       "      <td>0.935889</td>\n",
       "      <td>-0.939129</td>\n",
       "      <td>0.316364</td>\n",
       "      <td>0.357524</td>\n",
       "      <td>-1.601265</td>\n",
       "      <td>-0.063372</td>\n",
       "      <td>0.063372</td>\n",
       "    </tr>\n",
       "    <tr>\n",
       "      <th>1</th>\n",
       "      <td>-0.873204</td>\n",
       "      <td>0.475965</td>\n",
       "      <td>-0.095659</td>\n",
       "      <td>-0.090414</td>\n",
       "      <td>2.177118</td>\n",
       "      <td>-0.57897</td>\n",
       "      <td>1.204925</td>\n",
       "      <td>-0.638291</td>\n",
       "      <td>0.475863</td>\n",
       "      <td>0.280104</td>\n",
       "      <td>...</td>\n",
       "      <td>-0.773542</td>\n",
       "      <td>0.178216</td>\n",
       "      <td>-0.208547</td>\n",
       "      <td>-0.307817</td>\n",
       "      <td>0.600426</td>\n",
       "      <td>0.316364</td>\n",
       "      <td>-0.063938</td>\n",
       "      <td>-0.485919</td>\n",
       "      <td>-0.063372</td>\n",
       "      <td>0.063372</td>\n",
       "    </tr>\n",
       "  </tbody>\n",
       "</table>\n",
       "<p>2 rows × 26 columns</p>\n",
       "</div>"
      ],
      "text/plain": [
       "   MSSubClass  LotFrontage   LotArea  OverallQual  OverallCond  MasVnrArea  \\\n",
       "0    0.073872    -0.235351 -0.196474     0.632900    -0.529618     0.46221   \n",
       "1   -0.873204     0.475965 -0.095659    -0.090414     2.177118    -0.57897   \n",
       "\n",
       "   BsmtFinSF1  BsmtUnfSF  TotalBsmtSF  1stFlrSF    ...     HalfBath  \\\n",
       "0    0.589782  -0.939672    -0.486827 -0.802481    ...     1.230454   \n",
       "1    1.204925  -0.638291     0.475863  0.280104    ...    -0.773542   \n",
       "\n",
       "   BedroomAbvGr  KitchenAbvGr  TotRmsAbvGrd  Fireplaces  GarageCars  \\\n",
       "0      0.178216     -0.208547      0.935889   -0.939129    0.316364   \n",
       "1      0.178216     -0.208547     -0.307817    0.600426    0.316364   \n",
       "\n",
       "   GarageArea    MoSold      Grvl      Pave  \n",
       "0    0.357524 -1.601265 -0.063372  0.063372  \n",
       "1   -0.063938 -0.485919 -0.063372  0.063372  \n",
       "\n",
       "[2 rows x 26 columns]"
      ]
     },
     "execution_count": 14,
     "metadata": {},
     "output_type": "execute_result"
    }
   ],
   "source": [
    "train_x_e.head(2)"
   ]
  },
  {
   "cell_type": "markdown",
   "metadata": {},
   "source": [
    "## LINEAR REGRESSION TO PREDICT HOUSE PRICES"
   ]
  },
  {
   "cell_type": "markdown",
   "metadata": {},
   "source": [
    "### part f"
   ]
  },
  {
   "cell_type": "code",
   "execution_count": 36,
   "metadata": {},
   "outputs": [
    {
     "data": {
      "text/plain": [
       "LinearRegression(copy_X=True, fit_intercept=True, n_jobs=None,\n",
       "         normalize=False)"
      ]
     },
     "execution_count": 36,
     "metadata": {},
     "output_type": "execute_result"
    }
   ],
   "source": [
    "from sklearn.linear_model import LinearRegression\n",
    "lr_model = LinearRegression() #Linear regression model\n",
    "lr_model.fit(train_x_e, train_y) #fitting model "
   ]
  },
  {
   "cell_type": "code",
   "execution_count": 37,
   "metadata": {},
   "outputs": [],
   "source": [
    "from sklearn.metrics import mean_squared_error\n",
    "predictions = lin_reg.predict(train_x_e) #for predictions \n",
    "lin_mse = mean_squared_error(train_y, predictions) #mean_squared_error for calculating MSE"
   ]
  },
  {
   "cell_type": "markdown",
   "metadata": {},
   "source": [
    "### part g"
   ]
  },
  {
   "cell_type": "code",
   "execution_count": 38,
   "metadata": {},
   "outputs": [
    {
     "name": "stdout",
     "output_type": "stream",
     "text": [
      "[-9.70357599e+08 -7.50683854e+08 -1.66939254e+09 -1.46924370e+09\n",
      " -8.85671506e+08]\n"
     ]
    }
   ],
   "source": [
    "from sklearn.model_selection import cross_val_score\n",
    "train_mse_score = cross_val_score(lin_reg,train_x_e,train_y,scoring=\"neg_mean_squared_error\", cv=5) #for calculating train MSE\n",
    "print train_mse_score"
   ]
  },
  {
   "cell_type": "code",
   "execution_count": 18,
   "metadata": {},
   "outputs": [
    {
     "name": "stdout",
     "output_type": "stream",
     "text": [
      "-1149069841.008595\n"
     ]
    }
   ],
   "source": [
    "average_mse=train_mse_score.mean() #mean function for average mse\n",
    "print average_mse"
   ]
  },
  {
   "cell_type": "markdown",
   "metadata": {},
   "source": [
    "### part h"
   ]
  },
  {
   "cell_type": "code",
   "execution_count": 19,
   "metadata": {},
   "outputs": [],
   "source": [
    "csv_path_test = os.path.join(DATASET_PATH, \"test.csv\")\n",
    "test_x=pd.read_csv(csv_path_test,usecols=range(25))\n",
    "test_y=pd.read_csv(csv_path_test)\n",
    "test_y=pd.Series(test_y.values[:, -1], name=test_y.columns[-1])\n",
    "test_x=test_x.fillna(test_x[\"LotFrontage\"].median())\n",
    "one_hot_test=pd.get_dummies(test_x[\"Street\"])\n",
    "test_x=test_x.drop(\"Street\",axis=1)\n",
    "test_x=test_x.join(one_hot_test)\n",
    "test_x= test_x.astype(float)\n",
    "data_norm_test = test_x.copy() \n",
    "data_array_test = normalizer.fit_transform(data_norm_test)\n",
    "test_x= pd.DataFrame(data_array_test,columns = data_norm_test.columns).set_index(data_norm_test.index)"
   ]
  },
  {
   "cell_type": "code",
   "execution_count": 20,
   "metadata": {
    "scrolled": true
   },
   "outputs": [
    {
     "data": {
      "text/html": [
       "<div>\n",
       "<style scoped>\n",
       "    .dataframe tbody tr th:only-of-type {\n",
       "        vertical-align: middle;\n",
       "    }\n",
       "\n",
       "    .dataframe tbody tr th {\n",
       "        vertical-align: top;\n",
       "    }\n",
       "\n",
       "    .dataframe thead th {\n",
       "        text-align: right;\n",
       "    }\n",
       "</style>\n",
       "<table border=\"1\" class=\"dataframe\">\n",
       "  <thead>\n",
       "    <tr style=\"text-align: right;\">\n",
       "      <th></th>\n",
       "      <th>MSSubClass</th>\n",
       "      <th>LotFrontage</th>\n",
       "      <th>LotArea</th>\n",
       "      <th>OverallQual</th>\n",
       "      <th>OverallCond</th>\n",
       "      <th>MasVnrArea</th>\n",
       "      <th>BsmtFinSF1</th>\n",
       "      <th>BsmtUnfSF</th>\n",
       "      <th>TotalBsmtSF</th>\n",
       "      <th>1stFlrSF</th>\n",
       "      <th>...</th>\n",
       "      <th>HalfBath</th>\n",
       "      <th>BedroomAbvGr</th>\n",
       "      <th>KitchenAbvGr</th>\n",
       "      <th>TotRmsAbvGrd</th>\n",
       "      <th>Fireplaces</th>\n",
       "      <th>GarageCars</th>\n",
       "      <th>GarageArea</th>\n",
       "      <th>MoSold</th>\n",
       "      <th>Grvl</th>\n",
       "      <th>Pave</th>\n",
       "    </tr>\n",
       "  </thead>\n",
       "  <tbody>\n",
       "    <tr>\n",
       "      <th>0</th>\n",
       "      <td>-0.871178</td>\n",
       "      <td>0.173992</td>\n",
       "      <td>0.011886</td>\n",
       "      <td>-2.204028</td>\n",
       "      <td>-2.275158</td>\n",
       "      <td>-0.565763</td>\n",
       "      <td>-0.908588</td>\n",
       "      <td>-1.300225</td>\n",
       "      <td>-2.217961</td>\n",
       "      <td>-0.563416</td>\n",
       "      <td>...</td>\n",
       "      <td>-0.73653</td>\n",
       "      <td>-1.088257</td>\n",
       "      <td>-0.218714</td>\n",
       "      <td>-1.547027</td>\n",
       "      <td>-0.978492</td>\n",
       "      <td>0.301860</td>\n",
       "      <td>0.249123</td>\n",
       "      <td>0.236471</td>\n",
       "      <td>-0.066082</td>\n",
       "      <td>0.066082</td>\n",
       "    </tr>\n",
       "    <tr>\n",
       "      <th>1</th>\n",
       "      <td>-0.635309</td>\n",
       "      <td>-0.411130</td>\n",
       "      <td>-0.825874</td>\n",
       "      <td>-0.755667</td>\n",
       "      <td>0.401498</td>\n",
       "      <td>-0.565763</td>\n",
       "      <td>-0.908588</td>\n",
       "      <td>0.287067</td>\n",
       "      <td>-0.756925</td>\n",
       "      <td>-1.180596</td>\n",
       "      <td>...</td>\n",
       "      <td>-0.73653</td>\n",
       "      <td>-1.088257</td>\n",
       "      <td>-0.218714</td>\n",
       "      <td>-1.547027</td>\n",
       "      <td>-0.978492</td>\n",
       "      <td>-1.020574</td>\n",
       "      <td>-1.143224</td>\n",
       "      <td>-1.961040</td>\n",
       "      <td>-0.066082</td>\n",
       "      <td>0.066082</td>\n",
       "    </tr>\n",
       "  </tbody>\n",
       "</table>\n",
       "<p>2 rows × 26 columns</p>\n",
       "</div>"
      ],
      "text/plain": [
       "   MSSubClass  LotFrontage   LotArea  OverallQual  OverallCond  MasVnrArea  \\\n",
       "0   -0.871178     0.173992  0.011886    -2.204028    -2.275158   -0.565763   \n",
       "1   -0.635309    -0.411130 -0.825874    -0.755667     0.401498   -0.565763   \n",
       "\n",
       "   BsmtFinSF1  BsmtUnfSF  TotalBsmtSF  1stFlrSF    ...     HalfBath  \\\n",
       "0   -0.908588  -1.300225    -2.217961 -0.563416    ...     -0.73653   \n",
       "1   -0.908588   0.287067    -0.756925 -1.180596    ...     -0.73653   \n",
       "\n",
       "   BedroomAbvGr  KitchenAbvGr  TotRmsAbvGrd  Fireplaces  GarageCars  \\\n",
       "0     -1.088257     -0.218714     -1.547027   -0.978492    0.301860   \n",
       "1     -1.088257     -0.218714     -1.547027   -0.978492   -1.020574   \n",
       "\n",
       "   GarageArea    MoSold      Grvl      Pave  \n",
       "0    0.249123  0.236471 -0.066082  0.066082  \n",
       "1   -1.143224 -1.961040 -0.066082  0.066082  \n",
       "\n",
       "[2 rows x 26 columns]"
      ]
     },
     "execution_count": 20,
     "metadata": {},
     "output_type": "execute_result"
    }
   ],
   "source": [
    "test_x.head(2)"
   ]
  },
  {
   "cell_type": "code",
   "execution_count": 21,
   "metadata": {},
   "outputs": [
    {
     "data": {
      "text/plain": [
       "0    82000\n",
       "1    86000\n",
       "Name: SalePrice, dtype: object"
      ]
     },
     "execution_count": 21,
     "metadata": {},
     "output_type": "execute_result"
    }
   ],
   "source": [
    "test_y.head(2)"
   ]
  },
  {
   "cell_type": "markdown",
   "metadata": {},
   "source": [
    "### part i "
   ]
  },
  {
   "cell_type": "code",
   "execution_count": 39,
   "metadata": {
    "scrolled": true
   },
   "outputs": [],
   "source": [
    "lin_reg1 = LinearRegression()\n",
    "lin_reg1.fit(test_x, test_y)\n",
    "predicted_values=lin_reg1.predict(test_x) #prediction with linear regression model"
   ]
  },
  {
   "cell_type": "code",
   "execution_count": 23,
   "metadata": {},
   "outputs": [
    {
     "name": "stdout",
     "output_type": "stream",
     "text": [
      "[107497.14218337  88173.15945005 159379.7576981 ]\n"
     ]
    }
   ],
   "source": [
    "print predicted_values[10:13] #writing predicted_values"
   ]
  },
  {
   "cell_type": "code",
   "execution_count": 24,
   "metadata": {},
   "outputs": [
    {
     "name": "stdout",
     "output_type": "stream",
     "text": [
      "[-1.40038409e+09 -3.43195233e+09 -1.15040816e+09 -6.48252332e+09\n",
      " -8.92243071e+08]\n"
     ]
    }
   ],
   "source": [
    "test_mse_score =cross_val_score(lin_reg1,test_x,test_y,scoring=\"neg_mean_squared_error\", cv=5) #calculating test MSE \n",
    "print test_mse_score"
   ]
  },
  {
   "cell_type": "markdown",
   "metadata": {},
   "source": [
    "## CLASSIFICATION MODEL TO PREDICT HOUSE PRICE CATEGORY"
   ]
  },
  {
   "cell_type": "markdown",
   "metadata": {},
   "source": [
    "### part j"
   ]
  },
  {
   "cell_type": "code",
   "execution_count": 25,
   "metadata": {},
   "outputs": [],
   "source": [
    "  \n",
    "labels_train_y={\"label1\":[],\"label2\":[],\"label3\":[],\"label4\":[],\"label5\":[]}\n",
    "for y in train_y: #seperating SalePrice columns into labels and putting 1,2,3,4,5 according to conditions.\n",
    "    if y<100000:\n",
    "        labels_train_y[\"label1\"].append(1)\n",
    "    elif y>=100000 and y<200000: \n",
    "        labels_train_y[\"label2\"].append(2)\n",
    "    elif y>=200000 and y<300000:\n",
    "        labels_train_y[\"label3\"].append(3)\n",
    "    elif y>=300000 and y<400000:\n",
    "        labels_train_y[\"label4\"].append(4)\n",
    "    elif y>=400000:\n",
    "        labels_train_y[\"label5\"].append(5)\n",
    "train_y_j=pd.DataFrame([(i, train_prices) for i,j in labels_train_y.items() for train_prices in j], \n",
    "                  columns=['Labels','SalePrice']) #extracting values from dict and creating dataframe for train_y_j and test_y_j\n",
    "train_y_j=train_y_j[\"SalePrice\"]\n",
    "labels_test_y={\"label1\":[],\"label2\":[],\"label3\":[],\"label4\":[],\"label5\":[]}\n",
    "for y in test_y:\n",
    "    if y<100000:\n",
    "        labels_test_y[\"label1\"].append(1)\n",
    "    elif y>=100000 and y<200000: \n",
    "        labels_test_y[\"label2\"].append(2)\n",
    "    elif y>=200000 and y<300000:\n",
    "        labels_test_y[\"label3\"].append(3)\n",
    "    elif y>=300000 and y<400000:\n",
    "        labels_test_y[\"label4\"].append(4)\n",
    "    elif y>=400000:\n",
    "        labels_test_y[\"label5\"].append(5)\n",
    "test_y_j=pd.DataFrame([(i, test_prices) for i,j in labels_test_y.items() for test_prices in j], \n",
    "                  columns=['Labels','SalePrice'])\n",
    "test_y_j=test_y_j[\"SalePrice\"]\n",
    "\n"
   ]
  },
  {
   "cell_type": "code",
   "execution_count": 26,
   "metadata": {},
   "outputs": [
    {
     "data": {
      "text/plain": [
       "0    1\n",
       "1    1\n",
       "Name: SalePrice, dtype: int64"
      ]
     },
     "execution_count": 26,
     "metadata": {},
     "output_type": "execute_result"
    }
   ],
   "source": [
    "train_y_j.head(2)\n"
   ]
  },
  {
   "cell_type": "code",
   "execution_count": 27,
   "metadata": {},
   "outputs": [
    {
     "data": {
      "text/plain": [
       "0    1\n",
       "1    1\n",
       "Name: SalePrice, dtype: int64"
      ]
     },
     "execution_count": 27,
     "metadata": {},
     "output_type": "execute_result"
    }
   ],
   "source": [
    "test_y_j.head(2)"
   ]
  },
  {
   "cell_type": "markdown",
   "metadata": {},
   "source": [
    "### part k"
   ]
  },
  {
   "cell_type": "code",
   "execution_count": 28,
   "metadata": {},
   "outputs": [
    {
     "data": {
      "text/plain": [
       "SGDClassifier(alpha=0.0001, average=False, class_weight=None,\n",
       "       early_stopping=False, epsilon=0.1, eta0=0.0, fit_intercept=True,\n",
       "       l1_ratio=0.15, learning_rate='optimal', loss='hinge', max_iter=1000,\n",
       "       n_iter=None, n_iter_no_change=5, n_jobs=None, penalty='l2',\n",
       "       power_t=0.5, random_state=None, shuffle=True, tol=None,\n",
       "       validation_fraction=0.1, verbose=0, warm_start=False)"
      ]
     },
     "execution_count": 28,
     "metadata": {},
     "output_type": "execute_result"
    }
   ],
   "source": [
    "from sklearn import linear_model\n",
    "from sklearn.linear_model import SGDClassifier\n",
    "model=linear_model.SGDClassifier(max_iter=1000) #multiclass classification model with Stochastic Gradient Descent\n",
    "model.fit(train_x_e, train_y_j) #fitting model\n"
   ]
  },
  {
   "cell_type": "markdown",
   "metadata": {},
   "source": [
    "### part l"
   ]
  },
  {
   "cell_type": "code",
   "execution_count": 29,
   "metadata": {},
   "outputs": [],
   "source": [
    "from sklearn.model_selection import cross_val_predict\n",
    "from sklearn.metrics import confusion_matrix\n",
    "from sklearn.metrics import recall_score\n",
    "from sklearn.metrics import precision_score\n",
    "from sklearn.metrics import f1_score\n",
    "from sklearn.metrics import accuracy_score\n",
    "scores=cross_val_score(model, train_x_e,train_y_j , cv=5) # calculating cros vallidation score\n",
    "train_y_pred = cross_val_predict(model, train_x_e,train_y_j, cv=5) #prediction for accuracy,confusion matrix, f1 score recall and precision\n",
    "accuracy=accuracy_score(train_y_j, train_y_pred) #calculating accuracy\n",
    "confusion_matrix=confusion_matrix(train_y_j, train_y_pred)#calculating confusion matrix\n",
    "recall=recall_score(train_y_j, train_y_pred, average='micro')#calculating recall\n",
    "precision=precision_score(train_y_j, train_y_pred, average='micro')#calculating precision\n",
    "f1 = f1_score(train_y_j, train_y_pred, average='micro')#calculating f1 score"
   ]
  },
  {
   "cell_type": "code",
   "execution_count": 30,
   "metadata": {},
   "outputs": [
    {
     "name": "stdout",
     "output_type": "stream",
     "text": [
      "[[  0  75   2   0   0]\n",
      " [  2 605   6   0   1]\n",
      " [  2 213   2   3   1]\n",
      " [  0  67   0   0   0]\n",
      " [  0  21   0   0   0]]\n",
      "accuracy: 0.607\n",
      "precision: 0.607\n",
      "recall: 0.607\n",
      "f1: 0.607\n"
     ]
    }
   ],
   "source": [
    "print(confusion_matrix)\n",
    "print(\"accuracy: {}\\nprecision: {}\\nrecall: {}\\nf1: {}\".format(accuracy,precision,recall,f1)) "
   ]
  },
  {
   "cell_type": "markdown",
   "metadata": {},
   "source": [
    "### part m"
   ]
  },
  {
   "cell_type": "code",
   "execution_count": 31,
   "metadata": {},
   "outputs": [],
   "source": [
    "predicted_values = model.predict(test_x) #predicting test_x with classification model"
   ]
  },
  {
   "cell_type": "code",
   "execution_count": 32,
   "metadata": {},
   "outputs": [
    {
     "name": "stdout",
     "output_type": "stream",
     "text": [
      "[2 2 2]\n"
     ]
    }
   ],
   "source": [
    "print(predicted_values[20:23])"
   ]
  },
  {
   "cell_type": "code",
   "execution_count": 33,
   "metadata": {},
   "outputs": [],
   "source": [
    "from sklearn.metrics import confusion_matrix\n",
    "accuracy=accuracy_score(test_y_j, predicted_values)#calculating accuracy\n",
    "confusion_matrix=confusion_matrix(test_y_j, predicted_values.tolist())#calculating confusion matrix\n",
    "recall=recall_score(test_y_j, predicted_values, average='micro') #calculating recall\n",
    "precision=precision_score(test_y_j, predicted_values, average='micro') #calculating precision\n",
    "f1 = f1_score(test_y_j,predicted_values, average='micro') #calculating f1 score"
   ]
  },
  {
   "cell_type": "code",
   "execution_count": 35,
   "metadata": {},
   "outputs": [
    {
     "name": "stdout",
     "output_type": "stream",
     "text": [
      "[[  0  34   3   0   0]\n",
      " [  0 290   7   0   0]\n",
      " [  0  93   6   0   0]\n",
      " [  0  20   0   0   0]\n",
      " [  0   7   0   0   0]]\n",
      "accuracy: 0.64347826087\n",
      "precision: 0.64347826087\n",
      "recall: 0.64347826087\n",
      "f1: 0.64347826087\n"
     ]
    }
   ],
   "source": [
    "print(confusion_matrix)\n",
    "print(\"accuracy: {}\\nprecision: {}\\nrecall: {}\\nf1: {}\".format(accuracy,precision,recall,f1)) "
   ]
  },
  {
   "cell_type": "code",
   "execution_count": null,
   "metadata": {},
   "outputs": [],
   "source": []
  }
 ],
 "metadata": {
  "kernelspec": {
   "display_name": "Python 2",
   "language": "python",
   "name": "python2"
  },
  "language_info": {
   "codemirror_mode": {
    "name": "ipython",
    "version": 2
   },
   "file_extension": ".py",
   "mimetype": "text/x-python",
   "name": "python",
   "nbconvert_exporter": "python",
   "pygments_lexer": "ipython2",
   "version": "2.7.15"
  }
 },
 "nbformat": 4,
 "nbformat_minor": 2
}
